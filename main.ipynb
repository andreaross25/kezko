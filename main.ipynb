{
  "nbformat": 4,
  "nbformat_minor": 0,
  "metadata": {
    "colab": {
      "provenance": []
    },
    "kernelspec": {
      "name": "python3",
      "display_name": "Python 3"
    },
    "language_info": {
      "name": "python"
    }
  },
  "cells": [
    {
      "cell_type": "markdown",
      "source": [
        "# Email cleaning script\n",
        "This notebook identifies non-existent emails based on the 'failure_message' column in the 'deliveries.csv' dataset\n",
        "Script created on Monday April 14th, 2025 by Andrea Ross Orozco\n",
        "Kezko Data & Analytics"
      ],
      "metadata": {
        "id": "I7sWX6mTnMgF"
      }
    },
    {
      "cell_type": "code",
      "source": [
        "# Library imports\n",
        "import pandas as pd # Data manipulation"
      ],
      "metadata": {
        "id": "9xPStn3ynNH-"
      },
      "execution_count": 31,
      "outputs": []
    },
    {
      "cell_type": "markdown",
      "source": [
        "Loads the dataset from a CSV file using the specified delimiter. Returns a pandas DataFrame with the contents of the file.\n",
        "\n",
        "**Parameters:**\n",
        "\n",
        "*   file_path: Path to the CSV file.\n",
        "*   delimiter: Character used to separate values in the file.\n",
        "\n",
        "\n",
        "**Returns**: A DataFrame containing the raw data."
      ],
      "metadata": {
        "id": "eeLO8y-VnjCm"
      }
    },
    {
      "cell_type": "code",
      "source": [
        "# Load CSV file into pandas DataFrame\n",
        "def load_data(filepath: str, delimiter: str = ';') -> pd.DataFrame:\n",
        "    try:\n",
        "        # Read CSV file into DataFrame\n",
        "        df = pd.read_csv(filepath, delimiter=delimiter)\n",
        "        return df\n",
        "    except FileNotFoundError:\n",
        "        # Raise an error if the file is not found\n",
        "        raise FileNotFoundError(f\"The file at {filepath} was not found.\")\n",
        "    except Exception as e:\n",
        "        # Raise a generic error for any other exceptions\n",
        "        raise Exception(f\"An error occurred while loading the file: {e}\")"
      ],
      "metadata": {
        "id": "CYGX7fIWnP8s"
      },
      "execution_count": 32,
      "outputs": []
    },
    {
      "cell_type": "markdown",
      "source": [
        "Selects only the columns relevant to the email cleaning task: id, email, and failure_message.\n",
        "\n",
        "**Parameters:**\n",
        "*   df: The original DataFrame.\n",
        "\n",
        "Returns: A filtered DataFrame with only the necessary columns."
      ],
      "metadata": {
        "id": "U2wRA2BTn-pk"
      }
    },
    {
      "cell_type": "code",
      "source": [
        "# Filter DataFrame to include only relevant columns\n",
        "def filter_relevant_columns(df: pd.DataFrame, columns: list) -> pd.DataFrame:\n",
        "    # Check if the required columns are present in the DataFrame\n",
        "    missing_cols = [col for col in columns if col not in df.columns]\n",
        "    if missing_cols:\n",
        "        # Raise an error if any required columns are missing\n",
        "        raise ValueError(f\" The following required columns are missing: {missing_cols}\")\n",
        "    return df[columns]"
      ],
      "metadata": {
        "id": "LqJbkkwrnTrb"
      },
      "execution_count": 33,
      "outputs": []
    },
    {
      "cell_type": "markdown",
      "source": [
        "Filters the DataFrame to include only rows where the failure_message contains the phrase \"does not exist\".\n",
        "\n",
        "**Parameters:**\n",
        "*   df: Filtered DataFrame\n",
        "*   keyword: The phrase to search within failure_message\n",
        "\n",
        "**Returns**: A new DataFrame with only non-existent emails"
      ],
      "metadata": {
        "id": "YcL6Qy7ZohiX"
      }
    },
    {
      "cell_type": "code",
      "source": [
        "# Extract rows with failure messages indicating non-existent emails\n",
        "def extract_nonexistent_emails(df: pd.DataFrame) -> pd.DataFrame:\n",
        "    # Look for failure messages indicating non-existent emails\n",
        "    mask = df['failure_message'].str.contains('does not exist', case=False, na=False) # Case insensitive and ignore NaN\n",
        "    nonexistent_df = df[mask].drop_duplicates(subset='email') # Drop duplicates based on email\n",
        "    print(f\"Found {nonexistent_df.shape[0]} non-existent emails.\") # Print the number of non-existent emails\n",
        "    return nonexistent_df"
      ],
      "metadata": {
        "id": "TCGmlk1vnVoN"
      },
      "execution_count": 34,
      "outputs": []
    },
    {
      "cell_type": "markdown",
      "source": [
        "Exports the given DataFrame to a CSV file using a comma as the delimiter.\n",
        "\n",
        "**Parameters:**\n",
        "*   df: DataFrame to be saved.\n",
        "*   output_path: Desired path for the resulting CSV file.\n"
      ],
      "metadata": {
        "id": "kGB1v_6Ro6lJ"
      }
    },
    {
      "cell_type": "code",
      "source": [
        "# Save the DataFrame to a CSV file\n",
        "def save_to_csv(df: pd.DataFrame, output_path: str, delimiter: str = ','):\n",
        "    df.to_csv(output_path, index=False, sep=delimiter) # Save without index\n",
        "    print(f\" Non-existent emails saved to {output_path}\") # Print confirmation message"
      ],
      "metadata": {
        "id": "DArTcCq5nX4u"
      },
      "execution_count": 35,
      "outputs": []
    },
    {
      "cell_type": "code",
      "source": [
        "# Main function to execute the email cleaning pipeline\n",
        "def main():\n",
        "    input_file = 'deliveries.csv'  # Update path as needed\n",
        "    output_file = 'non_existent_emails.csv' # Update path as needed\n",
        "\n",
        "    df = load_data(input_file) # Load the data\n",
        "    df_relevant = filter_relevant_columns(df, ['id', 'email', 'failure_message']) # Filter relevant columns\n",
        "    df_nonexistent = extract_nonexistent_emails(df_relevant) # Extract non-existent emails\n",
        "    save_to_csv(df_nonexistent, output_file) # Save to CSV"
      ],
      "metadata": {
        "id": "jpHwxvrCnZ3R"
      },
      "execution_count": 36,
      "outputs": []
    },
    {
      "cell_type": "code",
      "source": [
        "# Run the main function\n",
        "if __name__ == '__main__':\n",
        "    main()"
      ],
      "metadata": {
        "colab": {
          "base_uri": "https://localhost:8080/"
        },
        "id": "DVLL8MBtnbtN",
        "outputId": "39508f2a-3de8-45ef-ae4d-feea739f329c"
      },
      "execution_count": 37,
      "outputs": [
        {
          "output_type": "stream",
          "name": "stdout",
          "text": [
            "Found 20 non-existent emails.\n",
            " Non-existent emails saved to non_existent_emails.csv\n"
          ]
        }
      ]
    }
  ]
}